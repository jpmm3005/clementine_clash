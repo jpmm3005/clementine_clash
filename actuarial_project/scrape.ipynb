{
 "cells": [],
 "metadata": {
  "kernelspec": {
   "display_name": "clementine_clash",
   "language": "python",
   "name": "python3"
  },
  "language_info": {
   "name": "python",
   "version": "3.12.11"
  }
 },
 "nbformat": 4,
 "nbformat_minor": 5
}
